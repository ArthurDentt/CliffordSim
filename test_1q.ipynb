{
 "cells": [
  {
   "cell_type": "code",
   "execution_count": 1,
   "id": "897bbb12-eb17-4bcc-9c6f-0de9ec12c147",
   "metadata": {},
   "outputs": [],
   "source": [
    "import numpy as np\n",
    "from tableaus import *\n",
    "from tableau_cls import Tableau"
   ]
  },
  {
   "cell_type": "code",
   "execution_count": 2,
   "id": "836575bf-a518-41da-9ace-052d3bf25734",
   "metadata": {},
   "outputs": [
    {
     "data": {
      "text/plain": [
       "array([[0, 1, 0],\n",
       "       [1, 0, 0]])"
      ]
     },
     "execution_count": 2,
     "metadata": {},
     "output_type": "execute_result"
    }
   ],
   "source": [
    "# Z eigenstate tableau\n",
    "# Stabs = +X\n",
    "# Destabs = +Z\n",
    "\n",
    "tester = np.array([\n",
    "[0,1,0],\n",
    "[1,0,0]\n",
    "])\n",
    "tester"
   ]
  },
  {
   "cell_type": "code",
   "execution_count": 3,
   "id": "41ada793-5ba8-4175-8cd5-88a2027b2fbf",
   "metadata": {},
   "outputs": [
    {
     "data": {
      "text/plain": [
       "Stabilizers: ['+X']\n",
       "Destabilizers: ['+Z']"
      ]
     },
     "execution_count": 3,
     "metadata": {},
     "output_type": "execute_result"
    }
   ],
   "source": [
    "tab = Tableau(tester)\n",
    "tab"
   ]
  },
  {
   "cell_type": "code",
   "execution_count": 4,
   "id": "14a1f3b1-2094-4ce0-b8e3-da9bae4a7efa",
   "metadata": {},
   "outputs": [
    {
     "data": {
      "text/plain": [
       "Stabilizers: ['+Z']\n",
       "Destabilizers: ['+X']"
      ]
     },
     "execution_count": 4,
     "metadata": {},
     "output_type": "execute_result"
    }
   ],
   "source": [
    "tab.H(0)\n",
    "tab"
   ]
  },
  {
   "cell_type": "code",
   "execution_count": 5,
   "id": "d8d5b6b7-e8a2-4ef1-b8d7-077147ed44f2",
   "metadata": {},
   "outputs": [],
   "source": [
    "def print_1q_tab(tableau):\n",
    "    stabilizer = tab_row_to_str_1q(tableau[0,:])\n",
    "    destabilizer = tab_row_to_str_1q(tableau[1,:])\n",
    "    print(\"Stabilizer:\", stabilizer, \"Destabilizer:\", destabilizer)"
   ]
  },
  {
   "cell_type": "code",
   "execution_count": 6,
   "id": "b087ee9c-69f6-4dc4-8226-1fa5cf51d23f",
   "metadata": {},
   "outputs": [],
   "source": [
    "def tab_row_to_str_1q(rowvec):\n",
    "    operator = ''\n",
    "    operator += 'Z'*rowvec[0] + 'X'*rowvec[1]\n",
    "    operator = '-' + operator if rowvec[2] else '+' + operator\n",
    "    return operator"
   ]
  },
  {
   "cell_type": "code",
   "execution_count": 7,
   "id": "282d1f7a-10cc-4b76-b1e1-6d42eee7c6cf",
   "metadata": {},
   "outputs": [
    {
     "name": "stdout",
     "output_type": "stream",
     "text": [
      "Stabilizer: +Z Destabilizer: +X\n"
     ]
    }
   ],
   "source": [
    "print_1q_tab(tester)"
   ]
  },
  {
   "cell_type": "code",
   "execution_count": 8,
   "id": "eaf83d9d-9a06-4468-81e9-30e3fbd91031",
   "metadata": {},
   "outputs": [
    {
     "name": "stdout",
     "output_type": "stream",
     "text": [
      "Stabilizers: ['+Z'] Destabilizers: ['+X']\n"
     ]
    }
   ],
   "source": [
    "print_tab(tester)"
   ]
  },
  {
   "cell_type": "code",
   "execution_count": 9,
   "id": "39b68d46-1d87-4c0c-9957-dc692acb0894",
   "metadata": {},
   "outputs": [
    {
     "data": {
      "text/plain": [
       "'+Z'"
      ]
     },
     "execution_count": 9,
     "metadata": {},
     "output_type": "execute_result"
    }
   ],
   "source": [
    "tab_row_to_str(tester[0])"
   ]
  },
  {
   "cell_type": "code",
   "execution_count": 10,
   "id": "91b0f63d-3859-4c71-9294-f493be932444",
   "metadata": {},
   "outputs": [
    {
     "data": {
      "text/plain": [
       "array([[1, 0, 0],\n",
       "       [0, 1, 0]])"
      ]
     },
     "execution_count": 10,
     "metadata": {},
     "output_type": "execute_result"
    }
   ],
   "source": [
    "tester"
   ]
  },
  {
   "cell_type": "code",
   "execution_count": 56,
   "id": "44e40571-24b3-4603-8191-d6c6afa28833",
   "metadata": {},
   "outputs": [],
   "source": [
    "tester_2 = np.eye(2000, dtype=int)[0:1999,:]"
   ]
  },
  {
   "cell_type": "code",
   "execution_count": 57,
   "id": "18587896-7c22-4e96-93b2-2c6009ff31ac",
   "metadata": {},
   "outputs": [
    {
     "data": {
      "text/plain": [
       "array([[1, 0, 0, ..., 0, 0, 0],\n",
       "       [1, 1, 0, ..., 0, 0, 0],\n",
       "       [0, 0, 1, ..., 0, 0, 0],\n",
       "       ...,\n",
       "       [0, 0, 0, ..., 0, 0, 0],\n",
       "       [0, 0, 0, ..., 1, 0, 0],\n",
       "       [0, 0, 0, ..., 0, 1, 0]])"
      ]
     },
     "execution_count": 57,
     "metadata": {},
     "output_type": "execute_result"
    }
   ],
   "source": [
    "CNOT(tester_2,0,1)"
   ]
  },
  {
   "cell_type": "code",
   "execution_count": 13,
   "id": "adc266c5-eb07-47d0-9068-3fccdd92d886",
   "metadata": {},
   "outputs": [
    {
     "data": {
      "text/plain": [
       "array([[0, 1, 1],\n",
       "       [1, 1, 1]])"
      ]
     },
     "execution_count": 13,
     "metadata": {},
     "output_type": "execute_result"
    }
   ],
   "source": [
    "Phase(np.array([[1, 1, 0],[0, 1, 1]]),0)"
   ]
  },
  {
   "cell_type": "code",
   "execution_count": 14,
   "id": "f1d47f3a-0cc3-4ce5-89b8-c33a2e6396f0",
   "metadata": {},
   "outputs": [
    {
     "data": {
      "text/plain": [
       "array([[1, 0, 0],\n",
       "       [0, 1, 0]])"
      ]
     },
     "execution_count": 14,
     "metadata": {},
     "output_type": "execute_result"
    }
   ],
   "source": [
    "tester"
   ]
  },
  {
   "cell_type": "code",
   "execution_count": 46,
   "id": "1ac9346f-5755-46ea-9a39-8d0d53a569f5",
   "metadata": {},
   "outputs": [],
   "source": [
    "init_tab = np.eye(5, dtype=int)[0:4,:]"
   ]
  },
  {
   "cell_type": "code",
   "execution_count": 23,
   "id": "f2f219b9-5ef0-4521-b48b-3d1392fd6302",
   "metadata": {},
   "outputs": [
    {
     "ename": "IndexError",
     "evalue": "index 42 is out of bounds for axis 1 with size 5",
     "output_type": "error",
     "traceback": [
      "\u001b[0;31m---------------------------------------------------------------------------\u001b[0m",
      "\u001b[0;31mIndexError\u001b[0m                                Traceback (most recent call last)",
      "File \u001b[0;32m<timed exec>:2\u001b[0m\n",
      "File \u001b[0;32m~/Documents/GitHub/CliffordSim/tableaus.py:11\u001b[0m, in \u001b[0;36mCNOT\u001b[0;34m(tableau, control, target)\u001b[0m\n\u001b[1;32m      9\u001b[0m \u001b[38;5;28;01mdef\u001b[39;00m \u001b[38;5;21mCNOT\u001b[39m(tableau, control, target):\n\u001b[1;32m     10\u001b[0m     n \u001b[38;5;241m=\u001b[39m (\u001b[38;5;28mlen\u001b[39m(tableau[\u001b[38;5;241m0\u001b[39m,:]))\u001b[38;5;241m/\u001b[39m\u001b[38;5;241m/\u001b[39m\u001b[38;5;241m2\u001b[39m\n\u001b[0;32m---> 11\u001b[0m     za \u001b[38;5;241m=\u001b[39m tableau[:,control]\n\u001b[1;32m     12\u001b[0m     xa \u001b[38;5;241m=\u001b[39m tableau[:,n\u001b[38;5;241m+\u001b[39mcontrol]\n\u001b[1;32m     13\u001b[0m     zb \u001b[38;5;241m=\u001b[39m tableau[:,target]\n",
      "\u001b[0;31mIndexError\u001b[0m: index 42 is out of bounds for axis 1 with size 5"
     ]
    }
   ],
   "source": [
    "%%time\n",
    "for i in range(3000):\n",
    "    init_tab = CNOT(init_tab,np.random.randint(100),np.random.randint(100))"
   ]
  },
  {
   "cell_type": "code",
   "execution_count": 24,
   "id": "9ef8e9a9-be9d-4af3-a6cb-a853b92ce508",
   "metadata": {},
   "outputs": [
    {
     "data": {
      "text/plain": [
       "2"
      ]
     },
     "execution_count": 24,
     "metadata": {},
     "output_type": "execute_result"
    }
   ],
   "source": [
    "len(init_tab[0,:])//2"
   ]
  },
  {
   "cell_type": "code",
   "execution_count": 25,
   "id": "38e6b0e3-0df1-4ac1-aae0-790b769cdd0e",
   "metadata": {},
   "outputs": [
    {
     "data": {
      "text/plain": [
       "[2, 3]"
      ]
     },
     "execution_count": 25,
     "metadata": {},
     "output_type": "execute_result"
    }
   ],
   "source": [
    "[1,2,3][1:]"
   ]
  },
  {
   "cell_type": "code",
   "execution_count": 26,
   "id": "b3280d37-b33d-4be7-8dc1-57f00820714f",
   "metadata": {},
   "outputs": [
    {
     "ename": "NameError",
     "evalue": "name '_swap' is not defined",
     "output_type": "error",
     "traceback": [
      "\u001b[0;31m---------------------------------------------------------------------------\u001b[0m",
      "\u001b[0;31mNameError\u001b[0m                                 Traceback (most recent call last)",
      "Cell \u001b[0;32mIn[26], line 3\u001b[0m\n\u001b[1;32m      1\u001b[0m vec1 \u001b[38;5;241m=\u001b[39m [\u001b[38;5;241m1\u001b[39m,\u001b[38;5;241m2\u001b[39m,\u001b[38;5;241m3\u001b[39m]\n\u001b[1;32m      2\u001b[0m vec2 \u001b[38;5;241m=\u001b[39m [\u001b[38;5;241m4\u001b[39m,\u001b[38;5;241m5\u001b[39m,\u001b[38;5;241m6\u001b[39m]\n\u001b[0;32m----> 3\u001b[0m vec1,vec2 \u001b[38;5;241m=\u001b[39m _swap(vec1,vec2)\n",
      "\u001b[0;31mNameError\u001b[0m: name '_swap' is not defined"
     ]
    }
   ],
   "source": [
    "vec1 = [1,2,3]\n",
    "vec2 = [4,5,6]\n",
    "vec1,vec2 = _swap(vec1,vec2)"
   ]
  },
  {
   "cell_type": "code",
   "execution_count": 27,
   "id": "d3a58fa2-b3ab-4bcb-91f2-2d9ed7fa233f",
   "metadata": {},
   "outputs": [
    {
     "data": {
      "text/plain": [
       "[1, 2, 3]"
      ]
     },
     "execution_count": 27,
     "metadata": {},
     "output_type": "execute_result"
    }
   ],
   "source": [
    "vec1"
   ]
  },
  {
   "cell_type": "code",
   "execution_count": 45,
   "id": "397f9be8-d1e8-4884-8dcb-605be5018f54",
   "metadata": {},
   "outputs": [
    {
     "data": {
      "text/plain": [
       "array([[1, 0, 0, 0, 0],\n",
       "       [0, 1, 0, 0, 0],\n",
       "       [0, 0, 1, 0, 0],\n",
       "       [0, 0, 0, 1, 0]])"
      ]
     },
     "execution_count": 45,
     "metadata": {},
     "output_type": "execute_result"
    }
   ],
   "source": [
    "tab_test = Tableau(init_tab)\n",
    "tab_test.CX(0,1)\n",
    "tab_test.data"
   ]
  },
  {
   "cell_type": "code",
   "execution_count": null,
   "id": "a6159df3-6439-42a0-8c8f-b163303b91d3",
   "metadata": {},
   "outputs": [],
   "source": []
  },
  {
   "cell_type": "code",
   "execution_count": 99,
   "id": "9e571ce5-817f-4eb4-9bf7-090349259516",
   "metadata": {},
   "outputs": [
    {
     "data": {
      "text/plain": [
       "1999"
      ]
     },
     "execution_count": 99,
     "metadata": {},
     "output_type": "execute_result"
    }
   ],
   "source": [
    "num_qubits = 2000\n",
    "cnot_count = 10000\n",
    "tempvar = 0\n",
    "init_data = np.eye(2*num_qubits, dtype=int)[0:2*num_qubits-1 ,:]\n",
    "init_tab = Tableau(init_data)\n",
    "init_tab.num_qubits"
   ]
  },
  {
   "cell_type": "code",
   "execution_count": 136,
   "id": "3cc6bc04-bd84-4404-bafa-454cf1a15c7d",
   "metadata": {},
   "outputs": [],
   "source": [
    "randints = [{'control':np.random.randint(num_qubits), 'target':np.random.randint(num_qubits)} for i in range(cnot_count)]"
   ]
  },
  {
   "cell_type": "code",
   "execution_count": 137,
   "id": "c1e39a90-717e-4c33-a8cd-ad68171eafee",
   "metadata": {},
   "outputs": [
    {
     "name": "stdout",
     "output_type": "stream",
     "text": [
      "CPU times: user 1.47 s, sys: 5.18 ms, total: 1.47 s\n",
      "Wall time: 1.48 s\n"
     ]
    }
   ],
   "source": [
    "%%time\n",
    "for randint in randints:\n",
    "    init_tab.CX(**randint)"
   ]
  },
  {
   "cell_type": "code",
   "execution_count": 138,
   "id": "2ace2eaf-4c6a-41ab-a49a-94aa666d2245",
   "metadata": {},
   "outputs": [
    {
     "name": "stdout",
     "output_type": "stream",
     "text": [
      "CPU times: user 1.55 s, sys: 2.96 ms, total: 1.55 s\n",
      "Wall time: 1.55 s\n"
     ]
    }
   ],
   "source": [
    "%%time\n",
    "for randint in randints:\n",
    "    tempvar = CNOT(init_data,**randint)"
   ]
  },
  {
   "cell_type": "code",
   "execution_count": 139,
   "id": "42b8564b-5e98-4b9c-9607-9bdda8da999d",
   "metadata": {},
   "outputs": [
    {
     "data": {
      "text/plain": [
       "True"
      ]
     },
     "execution_count": 139,
     "metadata": {},
     "output_type": "execute_result"
    }
   ],
   "source": [
    "np.allclose(tempvar,init_tab.data)"
   ]
  },
  {
   "cell_type": "code",
   "execution_count": null,
   "id": "76d4b87c-7af9-4182-89c2-71fea841db68",
   "metadata": {},
   "outputs": [],
   "source": []
  }
 ],
 "metadata": {
  "kernelspec": {
   "display_name": "Python 3 (ipykernel)",
   "language": "python",
   "name": "python3"
  },
  "language_info": {
   "codemirror_mode": {
    "name": "ipython",
    "version": 3
   },
   "file_extension": ".py",
   "mimetype": "text/x-python",
   "name": "python",
   "nbconvert_exporter": "python",
   "pygments_lexer": "ipython3",
   "version": "3.12.7"
  }
 },
 "nbformat": 4,
 "nbformat_minor": 5
}
