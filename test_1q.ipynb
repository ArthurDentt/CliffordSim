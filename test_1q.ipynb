{
 "cells": [
  {
   "cell_type": "code",
   "execution_count": 1,
   "id": "897bbb12-eb17-4bcc-9c6f-0de9ec12c147",
   "metadata": {},
   "outputs": [],
   "source": [
    "import numpy as np\n",
    "from tableau_cls import Tableau"
   ]
  },
  {
   "cell_type": "code",
   "execution_count": 2,
   "id": "836575bf-a518-41da-9ace-052d3bf25734",
   "metadata": {},
   "outputs": [
    {
     "data": {
      "text/plain": [
       "array([[0, 1, 0],\n",
       "       [1, 0, 0]])"
      ]
     },
     "execution_count": 2,
     "metadata": {},
     "output_type": "execute_result"
    }
   ],
   "source": [
    "# Z eigenstate tableau\n",
    "# Stabs = +X\n",
    "# Destabs = +Z\n",
    "\n",
    "tester = np.array([\n",
    "[0,1,0],\n",
    "[1,0,0]\n",
    "])\n",
    "tester"
   ]
  },
  {
   "cell_type": "code",
   "execution_count": 3,
   "id": "41ada793-5ba8-4175-8cd5-88a2027b2fbf",
   "metadata": {},
   "outputs": [
    {
     "data": {
      "text/plain": [
       "Stabilizers: ['+X']\n",
       "Destabilizers: ['+Z']"
      ]
     },
     "execution_count": 3,
     "metadata": {},
     "output_type": "execute_result"
    }
   ],
   "source": [
    "tab = Tableau(tester)\n",
    "tab"
   ]
  },
  {
   "cell_type": "code",
   "execution_count": 4,
   "id": "14a1f3b1-2094-4ce0-b8e3-da9bae4a7efa",
   "metadata": {},
   "outputs": [
    {
     "data": {
      "text/plain": [
       "Stabilizers: ['+Z']\n",
       "Destabilizers: ['+X']"
      ]
     },
     "execution_count": 4,
     "metadata": {},
     "output_type": "execute_result"
    }
   ],
   "source": [
    "tab.H(0)\n",
    "tab"
   ]
  },
  {
   "cell_type": "code",
   "execution_count": 5,
   "id": "d8d5b6b7-e8a2-4ef1-b8d7-077147ed44f2",
   "metadata": {},
   "outputs": [],
   "source": [
    "def print_1q_tab(tableau):\n",
    "    stabilizer = tab_row_to_str_1q(tableau[0,:])\n",
    "    destabilizer = tab_row_to_str_1q(tableau[1,:])\n",
    "    print(\"Stabilizer:\", stabilizer, \"Destabilizer:\", destabilizer)"
   ]
  },
  {
   "cell_type": "code",
   "execution_count": 6,
   "id": "b087ee9c-69f6-4dc4-8226-1fa5cf51d23f",
   "metadata": {},
   "outputs": [],
   "source": [
    "def tab_row_to_str_1q(rowvec):\n",
    "    operator = ''\n",
    "    operator += 'Z'*rowvec[0] + 'X'*rowvec[1]\n",
    "    operator = '-' + operator if rowvec[2] else '+' + operator\n",
    "    return operator"
   ]
  },
  {
   "cell_type": "code",
   "execution_count": 7,
   "id": "282d1f7a-10cc-4b76-b1e1-6d42eee7c6cf",
   "metadata": {},
   "outputs": [
    {
     "name": "stdout",
     "output_type": "stream",
     "text": [
      "Stabilizer: +X Destabilizer: +Z\n"
     ]
    }
   ],
   "source": [
    "print_1q_tab(tester)"
   ]
  },
  {
   "cell_type": "code",
   "execution_count": 8,
   "id": "44e40571-24b3-4603-8191-d6c6afa28833",
   "metadata": {},
   "outputs": [],
   "source": [
    "tester_2 = np.eye(2000, dtype=int)[0:1999,:]"
   ]
  },
  {
   "cell_type": "code",
   "execution_count": 9,
   "id": "f1d47f3a-0cc3-4ce5-89b8-c33a2e6396f0",
   "metadata": {},
   "outputs": [
    {
     "data": {
      "text/plain": [
       "array([[0, 1, 0],\n",
       "       [1, 0, 0]])"
      ]
     },
     "execution_count": 9,
     "metadata": {},
     "output_type": "execute_result"
    }
   ],
   "source": [
    "tester"
   ]
  },
  {
   "cell_type": "code",
   "execution_count": 10,
   "id": "1ac9346f-5755-46ea-9a39-8d0d53a569f5",
   "metadata": {},
   "outputs": [],
   "source": [
    "init_tab = np.eye(5, dtype=int)[0:4,:]"
   ]
  },
  {
   "cell_type": "code",
   "execution_count": 31,
   "id": "9e571ce5-817f-4eb4-9bf7-090349259516",
   "metadata": {},
   "outputs": [
    {
     "data": {
      "text/plain": [
       "299"
      ]
     },
     "execution_count": 31,
     "metadata": {},
     "output_type": "execute_result"
    }
   ],
   "source": [
    "num_qubits = 300\n",
    "cnot_count = 5\n",
    "tempvar = 0\n",
    "init_data = np.eye(2*num_qubits, dtype=int)[0:2*num_qubits-1 ,:]\n",
    "init_tab = Tableau(init_data)\n",
    "init_tab.num_qubits"
   ]
  },
  {
   "cell_type": "code",
   "execution_count": 32,
   "id": "3cc6bc04-bd84-4404-bafa-454cf1a15c7d",
   "metadata": {},
   "outputs": [],
   "source": [
    "randints = [{'control':np.random.randint(num_qubits-1), 'target':np.random.randint(num_qubits-1)} for i in range(cnot_count)]"
   ]
  },
  {
   "cell_type": "code",
   "execution_count": 33,
   "id": "96984b9f-aff6-4fe2-a366-b72bb349d41b",
   "metadata": {},
   "outputs": [
    {
     "data": {
      "text/plain": [
       "299"
      ]
     },
     "execution_count": 33,
     "metadata": {},
     "output_type": "execute_result"
    }
   ],
   "source": [
    "init_tab.num_qubits"
   ]
  },
  {
   "cell_type": "code",
   "execution_count": 34,
   "id": "ab1d2edb-3e97-4af1-b83c-36c5f8aca996",
   "metadata": {},
   "outputs": [
    {
     "name": "stdout",
     "output_type": "stream",
     "text": [
      "CPU times: user 2.57 ms, sys: 1.71 ms, total: 4.27 ms\n",
      "Wall time: 2.68 ms\n"
     ]
    }
   ],
   "source": [
    "%%time\n",
    "for randint in randints:\n",
    "    init_tab.CX(**randint)"
   ]
  },
  {
   "cell_type": "code",
   "execution_count": 35,
   "id": "c1e39a90-717e-4c33-a8cd-ad68171eafee",
   "metadata": {},
   "outputs": [
    {
     "name": "stdout",
     "output_type": "stream",
     "text": [
      "CPU times: user 2.25 ms, sys: 1.54 ms, total: 3.79 ms\n",
      "Wall time: 2.37 ms\n"
     ]
    }
   ],
   "source": [
    "%%time\n",
    "for randint in randints:\n",
    "    init_tab.CX(**randint)"
   ]
  },
  {
   "cell_type": "code",
   "execution_count": 36,
   "id": "2ace2eaf-4c6a-41ab-a49a-94aa666d2245",
   "metadata": {},
   "outputs": [
    {
     "data": {
      "text/plain": [
       "array([[1, 0, 0, ..., 0, 0, 0],\n",
       "       [0, 1, 0, ..., 0, 0, 0],\n",
       "       [0, 0, 1, ..., 0, 0, 0],\n",
       "       ...,\n",
       "       [0, 0, 0, ..., 0, 0, 0],\n",
       "       [0, 0, 0, ..., 1, 0, 0],\n",
       "       [0, 0, 0, ..., 0, 1, 0]])"
      ]
     },
     "execution_count": 36,
     "metadata": {},
     "output_type": "execute_result"
    }
   ],
   "source": [
    "init_tab.data"
   ]
  },
  {
   "cell_type": "code",
   "execution_count": 58,
   "id": "5a74e4ce-0011-4be3-9844-e8c6846c5122",
   "metadata": {},
   "outputs": [],
   "source": [
    "init_tab.CX(0,0)"
   ]
  },
  {
   "cell_type": "code",
   "execution_count": 139,
   "id": "42b8564b-5e98-4b9c-9607-9bdda8da999d",
   "metadata": {},
   "outputs": [
    {
     "data": {
      "text/plain": [
       "True"
      ]
     },
     "execution_count": 139,
     "metadata": {},
     "output_type": "execute_result"
    }
   ],
   "source": [
    "np.allclose(tempvar,init_tab.data)"
   ]
  },
  {
   "cell_type": "code",
   "execution_count": 53,
   "id": "76d4b87c-7af9-4182-89c2-71fea841db68",
   "metadata": {},
   "outputs": [
    {
     "data": {
      "text/plain": [
       "1999"
      ]
     },
     "execution_count": 53,
     "metadata": {},
     "output_type": "execute_result"
    }
   ],
   "source": [
    "init_tab.num_qubits"
   ]
  },
  {
   "cell_type": "code",
   "execution_count": 54,
   "id": "a3457f7e-fa42-4577-934c-7727df43b55a",
   "metadata": {},
   "outputs": [],
   "source": [
    "init_tab.H(1550)"
   ]
  },
  {
   "cell_type": "code",
   "execution_count": 55,
   "id": "11e9f910-a808-4769-9152-4f6a1dd295d8",
   "metadata": {},
   "outputs": [],
   "source": [
    "init_tab.CZ(2,777)"
   ]
  },
  {
   "cell_type": "code",
   "execution_count": 56,
   "id": "c11bfe79-277f-459e-acb4-d4449d0e6e54",
   "metadata": {},
   "outputs": [],
   "source": [
    "init_tab.CX(2,222)"
   ]
  },
  {
   "cell_type": "code",
   "execution_count": 58,
   "id": "fac588e1-5c7b-4f9a-a1bd-ab5bf3bf2b9f",
   "metadata": {},
   "outputs": [],
   "source": [
    "init_tab.S(4)"
   ]
  },
  {
   "cell_type": "code",
   "execution_count": 59,
   "id": "46358e0c-cd62-401e-8a84-8b5b364f0f3c",
   "metadata": {},
   "outputs": [
    {
     "data": {
      "text/plain": [
       "\u001b[0;31mDocstring:\u001b[0m\n",
       "asarray(a, dtype=None, order=None, *, like=None)\n",
       "\n",
       "Convert the input to an array.\n",
       "\n",
       "Parameters\n",
       "----------\n",
       "a : array_like\n",
       "    Input data, in any form that can be converted to an array.  This\n",
       "    includes lists, lists of tuples, tuples, tuples of tuples, tuples\n",
       "    of lists and ndarrays.\n",
       "dtype : data-type, optional\n",
       "    By default, the data-type is inferred from the input data.\n",
       "order : {'C', 'F', 'A', 'K'}, optional\n",
       "    Memory layout.  'A' and 'K' depend on the order of input array a.\n",
       "    'C' row-major (C-style),\n",
       "    'F' column-major (Fortran-style) memory representation.\n",
       "    'A' (any) means 'F' if `a` is Fortran contiguous, 'C' otherwise\n",
       "    'K' (keep) preserve input order\n",
       "    Defaults to 'K'.\n",
       "like : array_like, optional\n",
       "    Reference object to allow the creation of arrays which are not\n",
       "    NumPy arrays. If an array-like passed in as ``like`` supports\n",
       "    the ``__array_function__`` protocol, the result will be defined\n",
       "    by it. In this case, it ensures the creation of an array object\n",
       "    compatible with that passed in via this argument.\n",
       "\n",
       "    .. versionadded:: 1.20.0\n",
       "\n",
       "Returns\n",
       "-------\n",
       "out : ndarray\n",
       "    Array interpretation of `a`.  No copy is performed if the input\n",
       "    is already an ndarray with matching dtype and order.  If `a` is a\n",
       "    subclass of ndarray, a base class ndarray is returned.\n",
       "\n",
       "See Also\n",
       "--------\n",
       "asanyarray : Similar function which passes through subclasses.\n",
       "ascontiguousarray : Convert input to a contiguous array.\n",
       "asfarray : Convert input to a floating point ndarray.\n",
       "asfortranarray : Convert input to an ndarray with column-major\n",
       "                 memory order.\n",
       "asarray_chkfinite : Similar function which checks input for NaNs and Infs.\n",
       "fromiter : Create an array from an iterator.\n",
       "fromfunction : Construct an array by executing a function on grid\n",
       "               positions.\n",
       "\n",
       "Examples\n",
       "--------\n",
       "Convert a list into an array:\n",
       "\n",
       ">>> a = [1, 2]\n",
       ">>> np.asarray(a)\n",
       "array([1, 2])\n",
       "\n",
       "Existing arrays are not copied:\n",
       "\n",
       ">>> a = np.array([1, 2])\n",
       ">>> np.asarray(a) is a\n",
       "True\n",
       "\n",
       "If `dtype` is set, array is copied only if dtype does not match:\n",
       "\n",
       ">>> a = np.array([1, 2], dtype=np.float32)\n",
       ">>> np.asarray(a, dtype=np.float32) is a\n",
       "True\n",
       ">>> np.asarray(a, dtype=np.float64) is a\n",
       "False\n",
       "\n",
       "Contrary to `asanyarray`, ndarray subclasses are not passed through:\n",
       "\n",
       ">>> issubclass(np.recarray, np.ndarray)\n",
       "True\n",
       ">>> a = np.array([(1.0, 2), (3.0, 4)], dtype='f4,i4').view(np.recarray)\n",
       ">>> np.asarray(a) is a\n",
       "False\n",
       ">>> np.asanyarray(a) is a\n",
       "True\n",
       "\u001b[0;31mType:\u001b[0m      builtin_function_or_method"
      ]
     },
     "metadata": {},
     "output_type": "display_data"
    }
   ],
   "source": [
    "np.asarray?"
   ]
  },
  {
   "cell_type": "code",
   "execution_count": null,
   "id": "a329daf5-e7f1-438a-b984-e504998c75b6",
   "metadata": {},
   "outputs": [],
   "source": []
  },
  {
   "cell_type": "code",
   "execution_count": 22,
   "id": "ae28ae66-d148-486d-966d-00fbbd12b1ef",
   "metadata": {},
   "outputs": [
    {
     "data": {
      "text/plain": [
       "1"
      ]
     },
     "execution_count": 22,
     "metadata": {},
     "output_type": "execute_result"
    }
   ],
   "source": [
    "True * True"
   ]
  },
  {
   "cell_type": "code",
   "execution_count": 23,
   "id": "dec355b8-0e92-4840-bdf3-24078ed7a207",
   "metadata": {},
   "outputs": [
    {
     "data": {
      "text/plain": [
       "False"
      ]
     },
     "execution_count": 23,
     "metadata": {},
     "output_type": "execute_result"
    }
   ],
   "source": [
    "True ^ True"
   ]
  },
  {
   "cell_type": "code",
   "execution_count": 25,
   "id": "6da2302b-08d5-4524-876c-14562c7e9807",
   "metadata": {},
   "outputs": [
    {
     "data": {
      "text/plain": [
       "False"
      ]
     },
     "execution_count": 25,
     "metadata": {},
     "output_type": "execute_result"
    }
   ],
   "source": [
    "bool(True * False)"
   ]
  },
  {
   "cell_type": "code",
   "execution_count": 31,
   "id": "b82717da-8660-4e65-9179-317686255bc8",
   "metadata": {},
   "outputs": [
    {
     "data": {
      "text/plain": [
       "array([ True, False])"
      ]
     },
     "execution_count": 31,
     "metadata": {},
     "output_type": "execute_result"
    }
   ],
   "source": [
    "np.array([True,False]) & np.array([True,True])"
   ]
  },
  {
   "cell_type": "code",
   "execution_count": null,
   "id": "a7aab9a3-b470-4f69-b64a-a621d6dec61a",
   "metadata": {},
   "outputs": [],
   "source": []
  }
 ],
 "metadata": {
  "kernelspec": {
   "display_name": "Python 3 (ipykernel)",
   "language": "python",
   "name": "python3"
  },
  "language_info": {
   "codemirror_mode": {
    "name": "ipython",
    "version": 3
   },
   "file_extension": ".py",
   "mimetype": "text/x-python",
   "name": "python",
   "nbconvert_exporter": "python",
   "pygments_lexer": "ipython3",
   "version": "3.12.7"
  }
 },
 "nbformat": 4,
 "nbformat_minor": 5
}
