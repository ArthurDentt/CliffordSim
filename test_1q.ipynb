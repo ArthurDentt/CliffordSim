{
 "cells": [
  {
   "cell_type": "code",
   "execution_count": 8,
   "id": "897bbb12-eb17-4bcc-9c6f-0de9ec12c147",
   "metadata": {},
   "outputs": [],
   "source": [
    "import numpy as np\n",
    "from tableaus import *"
   ]
  },
  {
   "cell_type": "code",
   "execution_count": 9,
   "id": "836575bf-a518-41da-9ace-052d3bf25734",
   "metadata": {},
   "outputs": [
    {
     "data": {
      "text/plain": [
       "array([[0, 1, 0],\n",
       "       [1, 0, 0]])"
      ]
     },
     "execution_count": 9,
     "metadata": {},
     "output_type": "execute_result"
    }
   ],
   "source": [
    "# Z eigenstate tableau\n",
    "# Stabs = +X\n",
    "# Destabs = +Z\n",
    "\n",
    "tester = np.array([\n",
    "[0,1,0],\n",
    "[1,0,0]\n",
    "])\n",
    "tester"
   ]
  },
  {
   "cell_type": "code",
   "execution_count": 10,
   "id": "d8d5b6b7-e8a2-4ef1-b8d7-077147ed44f2",
   "metadata": {},
   "outputs": [],
   "source": [
    "def print_1q_tab(tableau):\n",
    "    stabilizer = tab_row_to_str_1q(tableau[0,:])\n",
    "    destabilizer = tab_row_to_str_1q(tableau[1,:])\n",
    "    print(\"Stabilizer:\", stabilizer, \"Destabilizer:\", destabilizer)"
   ]
  },
  {
   "cell_type": "code",
   "execution_count": 11,
   "id": "b087ee9c-69f6-4dc4-8226-1fa5cf51d23f",
   "metadata": {},
   "outputs": [],
   "source": [
    "def tab_row_to_str_1q(rowvec):\n",
    "    operator = ''\n",
    "    operator += 'Z'*rowvec[0] + 'X'*rowvec[1]\n",
    "    operator = '-' + operator if rowvec[2] else '+' + operator\n",
    "    return operator"
   ]
  },
  {
   "cell_type": "code",
   "execution_count": 12,
   "id": "282d1f7a-10cc-4b76-b1e1-6d42eee7c6cf",
   "metadata": {},
   "outputs": [
    {
     "name": "stdout",
     "output_type": "stream",
     "text": [
      "Stabilizer: +X Destabilizer: +Z\n"
     ]
    }
   ],
   "source": [
    "print_1q_tab(tester)"
   ]
  },
  {
   "cell_type": "code",
   "execution_count": 13,
   "id": "eaf83d9d-9a06-4468-81e9-30e3fbd91031",
   "metadata": {},
   "outputs": [
    {
     "name": "stdout",
     "output_type": "stream",
     "text": [
      "Stabilizers: ['+X'] Destabilizers: ['+Z']\n"
     ]
    }
   ],
   "source": [
    "print_tab(tester)"
   ]
  },
  {
   "cell_type": "code",
   "execution_count": 14,
   "id": "39b68d46-1d87-4c0c-9957-dc692acb0894",
   "metadata": {},
   "outputs": [
    {
     "data": {
      "text/plain": [
       "'+X'"
      ]
     },
     "execution_count": 14,
     "metadata": {},
     "output_type": "execute_result"
    }
   ],
   "source": [
    "tab_row_to_str(tester[0])"
   ]
  },
  {
   "cell_type": "code",
   "execution_count": 15,
   "id": "91b0f63d-3859-4c71-9294-f493be932444",
   "metadata": {},
   "outputs": [
    {
     "data": {
      "text/plain": [
       "array([[0, 1, 0],\n",
       "       [1, 0, 0]])"
      ]
     },
     "execution_count": 15,
     "metadata": {},
     "output_type": "execute_result"
    }
   ],
   "source": [
    "tester"
   ]
  },
  {
   "cell_type": "code",
   "execution_count": 16,
   "id": "44e40571-24b3-4603-8191-d6c6afa28833",
   "metadata": {},
   "outputs": [],
   "source": [
    "tester_2 = np.eye(5, dtype=int)[0:4,:]"
   ]
  },
  {
   "cell_type": "code",
   "execution_count": 17,
   "id": "18587896-7c22-4e96-93b2-2c6009ff31ac",
   "metadata": {},
   "outputs": [
    {
     "data": {
      "text/plain": [
       "array([[1, 0, 0, 0, 0],\n",
       "       [1, 1, 0, 0, 0],\n",
       "       [0, 0, 1, 1, 0],\n",
       "       [0, 0, 0, 1, 0]])"
      ]
     },
     "execution_count": 17,
     "metadata": {},
     "output_type": "execute_result"
    }
   ],
   "source": [
    "CNOT(tester_2,0,1)"
   ]
  },
  {
   "cell_type": "code",
   "execution_count": 18,
   "id": "adc266c5-eb07-47d0-9068-3fccdd92d886",
   "metadata": {},
   "outputs": [
    {
     "data": {
      "text/plain": [
       "array([[0, 1, 1],\n",
       "       [1, 1, 1]])"
      ]
     },
     "execution_count": 18,
     "metadata": {},
     "output_type": "execute_result"
    }
   ],
   "source": [
    "Phase(np.array([[1, 1, 0],[0, 1, 1]]),0)"
   ]
  },
  {
   "cell_type": "code",
   "execution_count": 19,
   "id": "f1d47f3a-0cc3-4ce5-89b8-c33a2e6396f0",
   "metadata": {},
   "outputs": [
    {
     "data": {
      "text/plain": [
       "array([[0, 1, 0],\n",
       "       [1, 0, 0]])"
      ]
     },
     "execution_count": 19,
     "metadata": {},
     "output_type": "execute_result"
    }
   ],
   "source": [
    "tester"
   ]
  },
  {
   "cell_type": "code",
   "execution_count": 23,
   "id": "1ac9346f-5755-46ea-9a39-8d0d53a569f5",
   "metadata": {},
   "outputs": [],
   "source": [
    "init_tab = np.eye(200, dtype=int)[0:199,:]"
   ]
  },
  {
   "cell_type": "code",
   "execution_count": 24,
   "id": "f2f219b9-5ef0-4521-b48b-3d1392fd6302",
   "metadata": {},
   "outputs": [
    {
     "name": "stdout",
     "output_type": "stream",
     "text": [
      "CPU times: user 110 ms, sys: 9.98 ms, total: 120 ms\n",
      "Wall time: 115 ms\n"
     ]
    }
   ],
   "source": [
    "%%time\n",
    "for i in range(3000):\n",
    "    init_tab = CNOT(init_tab,np.random.randint(100),np.random.randint(100))"
   ]
  },
  {
   "cell_type": "code",
   "execution_count": 25,
   "id": "e9ba6771-a1b7-4af0-9b63-287202107ff3",
   "metadata": {},
   "outputs": [
    {
     "ename": "IndexError",
     "evalue": "index 199 is out of bounds for axis 0 with size 199",
     "output_type": "error",
     "traceback": [
      "\u001b[0;31m---------------------------------------------------------------------------\u001b[0m",
      "\u001b[0;31mIndexError\u001b[0m                                Traceback (most recent call last)",
      "Cell \u001b[0;32mIn[25], line 1\u001b[0m\n\u001b[0;32m----> 1\u001b[0m print_tab(init_tab)\n",
      "File \u001b[0;32m~/Documents/GitHub/CliffordSim/tableaus.py:55\u001b[0m, in \u001b[0;36mprint_tab\u001b[0;34m(tableau)\u001b[0m\n\u001b[1;32m     53\u001b[0m n \u001b[38;5;241m=\u001b[39m \u001b[38;5;28mlen\u001b[39m(tableau[\u001b[38;5;241m0\u001b[39m,:])\u001b[38;5;241m/\u001b[39m\u001b[38;5;241m/\u001b[39m\u001b[38;5;241m2\u001b[39m\n\u001b[1;32m     54\u001b[0m stabilizers \u001b[38;5;241m=\u001b[39m [tab_row_to_str(tableau[i,:]) \u001b[38;5;28;01mfor\u001b[39;00m i \u001b[38;5;129;01min\u001b[39;00m \u001b[38;5;28mrange\u001b[39m(n)]\n\u001b[0;32m---> 55\u001b[0m destabilizers \u001b[38;5;241m=\u001b[39m [tab_row_to_str(tableau[i\u001b[38;5;241m+\u001b[39mn,:]) \u001b[38;5;28;01mfor\u001b[39;00m i \u001b[38;5;129;01min\u001b[39;00m \u001b[38;5;28mrange\u001b[39m(n)]\n\u001b[1;32m     56\u001b[0m \u001b[38;5;28mprint\u001b[39m(\u001b[38;5;124m\"\u001b[39m\u001b[38;5;124mStabilizers:\u001b[39m\u001b[38;5;124m\"\u001b[39m, stabilizers, \u001b[38;5;124m\"\u001b[39m\u001b[38;5;124mDestabilizers:\u001b[39m\u001b[38;5;124m\"\u001b[39m, destabilizers)\n",
      "\u001b[0;31mIndexError\u001b[0m: index 199 is out of bounds for axis 0 with size 199"
     ]
    }
   ],
   "source": [
    "print_tab(init_tab)"
   ]
  },
  {
   "cell_type": "code",
   "execution_count": 29,
   "id": "9ef8e9a9-be9d-4af3-a6cb-a853b92ce508",
   "metadata": {},
   "outputs": [
    {
     "data": {
      "text/plain": [
       "100"
      ]
     },
     "execution_count": 29,
     "metadata": {},
     "output_type": "execute_result"
    }
   ],
   "source": [
    "len(init_tab[0,:])//2"
   ]
  },
  {
   "cell_type": "code",
   "execution_count": 30,
   "id": "38e6b0e3-0df1-4ac1-aae0-790b769cdd0e",
   "metadata": {},
   "outputs": [
    {
     "data": {
      "text/plain": [
       "[2, 3]"
      ]
     },
     "execution_count": 30,
     "metadata": {},
     "output_type": "execute_result"
    }
   ],
   "source": [
    "[1,2,3][1:]"
   ]
  },
  {
   "cell_type": "code",
   "execution_count": null,
   "id": "b3280d37-b33d-4be7-8dc1-57f00820714f",
   "metadata": {},
   "outputs": [],
   "source": []
  }
 ],
 "metadata": {
  "kernelspec": {
   "display_name": "Python 3 (ipykernel)",
   "language": "python",
   "name": "python3"
  },
  "language_info": {
   "codemirror_mode": {
    "name": "ipython",
    "version": 3
   },
   "file_extension": ".py",
   "mimetype": "text/x-python",
   "name": "python",
   "nbconvert_exporter": "python",
   "pygments_lexer": "ipython3",
   "version": "3.12.7"
  }
 },
 "nbformat": 4,
 "nbformat_minor": 5
}
